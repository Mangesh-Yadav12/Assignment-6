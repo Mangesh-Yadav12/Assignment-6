{
 "cells": [
  {
   "cell_type": "markdown",
   "id": "de4eb32e",
   "metadata": {},
   "source": [
    "#### 1.Describe three applications for exception processing.\n",
    "\n",
    "ANS : When a Python program meets an error, it stops the execution of the rest of the program. An error in Python might be either an error in the syntax of an expression or a Python exception"
   ]
  },
  {
   "cell_type": "code",
   "execution_count": 1,
   "id": "0f36f1c1",
   "metadata": {},
   "outputs": [
    {
     "name": "stdout",
     "output_type": "stream",
     "text": [
      "The index and element from the array is 0 Python\n",
      "The index and element from the array is 1 Exceptions\n",
      "The index and element from the array is 2 try and except\n",
      "Index out of range\n"
     ]
    }
   ],
   "source": [
    "#EX :\n",
    "    \n",
    "# Python code to catch an exception and handle it using try and except code blocks  \n",
    "   \n",
    "a = [\"Python\", \"Exceptions\", \"try and except\"]  \n",
    "try:  \n",
    "    #looping through the elements of the array a, choosing a range that goes beyond the length of the array  \n",
    "     for i in range( 4 ):  \n",
    "        print( \"The index and element from the array is\", i, a[i] )  \n",
    "#if an error occurs in the try block, then except block will be executed by the Python interpreter       \n",
    "except:  \n",
    "    print (\"Index out of range\") "
   ]
  },
  {
   "cell_type": "markdown",
   "id": "6a6fe392",
   "metadata": {},
   "source": [
    "#### 2.What happens if you don't do something extra to treat an exception?\n",
    "\n",
    "ANS : When an exception occurred, if you don't handle it, the program terminates abruptly and the code past the line that caused the exception will not get executed."
   ]
  },
  {
   "cell_type": "markdown",
   "id": "8d51f08c",
   "metadata": {},
   "source": [
    "#### 3.What are your options for recovering from an exception in your script?\n",
    "\n",
    "ANS : TRY AND Except Statement - Catching Exceptions"
   ]
  },
  {
   "cell_type": "code",
   "execution_count": 2,
   "id": "452b072a",
   "metadata": {},
   "outputs": [
    {
     "name": "stdout",
     "output_type": "stream",
     "text": [
      "Second element = 2\n",
      "An error occurred\n"
     ]
    }
   ],
   "source": [
    "# EX :\n",
    "\n",
    "a = [1, 2, 3]\n",
    "try: \n",
    "    print (\"Second element = %d\" %(a[1]))\n",
    "  \n",
    "    # Throws error since there are only 3 elements in array\n",
    "    print (\"Fourth element = %d\" %(a[3]))\n",
    "  \n",
    "except:\n",
    "    print (\"An error occurred\")"
   ]
  },
  {
   "cell_type": "markdown",
   "id": "dba4b30d",
   "metadata": {},
   "source": [
    "#### 4.Describe two methods for triggering exceptions in your script.\n"
   ]
  },
  {
   "cell_type": "code",
   "execution_count": 10,
   "id": "dac01dfd",
   "metadata": {},
   "outputs": [
    {
     "name": "stdout",
     "output_type": "stream",
     "text": [
      "division by zero\n"
     ]
    }
   ],
   "source": [
    "try:\n",
    "    a=10\n",
    "    b=2\n",
    "    print(a/0)\n",
    "    print(a/2)\n",
    "    \n",
    "except Exception as e :\n",
    "    print(e)\n"
   ]
  },
  {
   "cell_type": "markdown",
   "id": "84c02086",
   "metadata": {},
   "source": [
    "#### 6.Identify two methods for specifying actions to be executed at termination time, regardless of\n",
    "whether or not an exception exists.\n",
    "\n",
    "ANS : The cause of an exception is often external to the program itself. For example, an incorrect input, a malfunctioning IO device etc. Because the program abruptly terminates on encountering an exception, it may cause damage to system resources, such as files. Hence, the exceptions should be properly handled so that an abrupt termination of the program is prevented.\n",
    "    Python uses try and except keywords to handle exceptions"
   ]
  },
  {
   "cell_type": "code",
   "execution_count": null,
   "id": "1f0df797",
   "metadata": {},
   "outputs": [],
   "source": []
  }
 ],
 "metadata": {
  "kernelspec": {
   "display_name": "Python 3",
   "language": "python",
   "name": "python3"
  },
  "language_info": {
   "codemirror_mode": {
    "name": "ipython",
    "version": 3
   },
   "file_extension": ".py",
   "mimetype": "text/x-python",
   "name": "python",
   "nbconvert_exporter": "python",
   "pygments_lexer": "ipython3",
   "version": "3.8.8"
  }
 },
 "nbformat": 4,
 "nbformat_minor": 5
}
